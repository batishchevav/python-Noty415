{
 "cells": [
  {
   "cell_type": "markdown",
   "id": "657be689",
   "metadata": {},
   "source": [
    "# Самостоятельное задание #3\n",
    "\n",
    "\n",
    "### Задание 1\n",
    "\n",
    "Допишите функцию, которая принимает массив из 10 чисел и возвращает их сумму."
   ]
  },
  {
   "cell_type": "code",
   "execution_count": 16,
   "id": "4ac9bcfb",
   "metadata": {},
   "outputs": [
    {
     "name": "stdout",
     "output_type": "stream",
     "text": [
      "3 2 5 6  2 7 1 284 2 71  274 37 96 3 1 63 1 37 \n",
      "383\n"
     ]
    }
   ],
   "source": [
    "b=[int(i) for i in input().split()]\n",
    "b1=b[0]+b[1]+b[2]+b[3]+b[4]+b[5]+b[6]+b[7]+b[8]+b[9]\n",
    "print(b1)"
   ]
  },
  {
   "cell_type": "markdown",
   "id": "eb78afc0",
   "metadata": {},
   "source": [
    "\n",
    "### Задание 2\n",
    "\n",
    "Допишите функцию, которая принимает массив чисел и возвращает количество чисел равных нулю."
   ]
  },
  {
   "cell_type": "code",
   "execution_count": 8,
   "id": "7e8fe536",
   "metadata": {},
   "outputs": [
    {
     "name": "stdout",
     "output_type": "stream",
     "text": [
      "0 3 0\n",
      "2\n"
     ]
    }
   ],
   "source": [
    "a=[int(i) for i in input().split()]\n",
    "a1=0\n",
    "for i in a:\n",
    "    if i==0:\n",
    "        a1+=1\n",
    "print(a1)"
   ]
  },
  {
   "cell_type": "markdown",
   "id": "570d5a26",
   "metadata": {},
   "source": [
    "\n",
    "### Задание 3\n",
    "\n",
    "Напишите программу, в которой задается  натуральное число n и выводится лестница из n ступенек, i-я ступенька должна состоять из чисел от 1 до i без пробелов."
   ]
  },
  {
   "cell_type": "code",
   "execution_count": 2,
   "id": "69fd0501",
   "metadata": {},
   "outputs": [
    {
     "name": "stdout",
     "output_type": "stream",
     "text": [
      "8\n",
      "1\n",
      "12\n",
      "123\n",
      "1234\n",
      "12345\n",
      "123456\n",
      "1234567\n",
      "12345678\n"
     ]
    }
   ],
   "source": [
    "n=int(input())\n",
    "for i in range( 1, n + 1 ):\n",
    "    for j in range( 1, i + 1 ):\n",
    "        print( j, end = \"\" )\n",
    "    print()"
   ]
  },
  {
   "cell_type": "markdown",
   "id": "b6ef1c44",
   "metadata": {},
   "source": [
    "\n",
    "### Задание 4\n",
    "\n",
    "Напишите программу, в которой задается натуральное число n и выводится пирамида из n ступенек, i-я ступень должна состоять из чисел от 1 до i и обратно без пробелов."
   ]
  },
  {
   "cell_type": "code",
   "execution_count": 1,
   "id": "6b038f87",
   "metadata": {},
   "outputs": [
    {
     "name": "stdout",
     "output_type": "stream",
     "text": [
      "5\n",
      "     1\n",
      "    121\n",
      "   12321\n",
      "  1234321\n",
      " 123454321\n"
     ]
    }
   ],
   "source": [
    "help = [\"\"]*100\n",
    "a = \"\"\n",
    "i = 1\n",
    "n = int(input())\n",
    "for i in range(1,n+1):\n",
    "    if i == 0:\n",
    "        i = 1\n",
    "    b = a\n",
    "    a = a + str(i)\n",
    "\n",
    "    help = sorted(list(a), reverse=True)\n",
    "    for j in range(i):\n",
    "        b += help [j]\n",
    "    print(\" \"*(n-i),b)"
   ]
  },
  {
   "cell_type": "markdown",
   "id": "b4552ef5",
   "metadata": {},
   "source": [
    "\n",
    "### Задание 5\n",
    "\n",
    "Напишите программу, в которой задается натуральное число n и выводится ромб из `n*2-1` ступенек, i-я ступень должна состоять из чисел от 1 до i и обратно без пробелов."
   ]
  },
  {
   "cell_type": "code",
   "execution_count": 9,
   "id": "5eaae897",
   "metadata": {},
   "outputs": [
    {
     "name": "stdout",
     "output_type": "stream",
     "text": [
      "7\n",
      "     1\n",
      "    121\n",
      "   12321\n",
      "  1234321\n",
      " 123454321\n",
      "12345654321\n",
      " 123454321\n",
      "  1234321\n",
      "   12321\n",
      "    121\n",
      "     1\n"
     ]
    }
   ],
   "source": [
    "c=int(input())\n",
    "top_row = []\n",
    "for i in range(2, c+1):\n",
    "    row=[str(x) for x in range(1, i)]\n",
    "    rev_row=sorted(row, reverse=True)\n",
    "    offset=''.join([' ' for x in range(c-i)])\n",
    "    fin_row=offset+ ''.join(row[:len(row)-1])+''.join(rev_row)\n",
    "    top_row.append(fin_row)\n",
    "for x in top_row+sorted(top_row, reverse=True)[1:]:\n",
    "    print(x)"
   ]
  }
 ],
 "metadata": {
  "kernelspec": {
   "display_name": "Python 3 (ipykernel)",
   "language": "python",
   "name": "python3"
  },
  "language_info": {
   "codemirror_mode": {
    "name": "ipython",
    "version": 3
   },
   "file_extension": ".py",
   "mimetype": "text/x-python",
   "name": "python",
   "nbconvert_exporter": "python",
   "pygments_lexer": "ipython3",
   "version": "3.9.7"
  }
 },
 "nbformat": 4,
 "nbformat_minor": 5
}

#По последней задаче, чтобы выводилась средняя линия ромба с числом n
n=9
top_row = []
for i in range(2, n+2):
    row=[str(x) for x in range(1, i)]
    rev_row=sorted(row, reverse=True)
    offset=''.join([' ' for x in range(n-i+1)])
    fin_row=offset+ ''.join(row[:len(row)-1])+''.join(rev_row)
    top_row.append(fin_row)
for x in top_row+sorted(top_row, reverse=True)[1:]:
    print(x)
